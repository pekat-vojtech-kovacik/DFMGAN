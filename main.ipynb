{
 "cells": [
  {
   "cell_type": "markdown",
   "metadata": {},
   "source": [
    "# Set paths to training data OK and NOK"
   ]
  },
  {
   "cell_type": "code",
   "execution_count": 6,
   "metadata": {},
   "outputs": [],
   "source": [
    "from IPython import get_ipython\n",
    "from datetime import datetime\n",
    "\n",
    "# Initialize\n",
    "NAME = \"Bolts\"\n",
    "IMAGE_SIZE = 256\n",
    "\n",
    "DATASET_OK_PATH = f'./data/{NAME}/OK'\n",
    "DATASET_NOK_PATH = f'./data/{NAME}/NOK'\n",
    "DATASET_MASK_PATH = f'./data/{NAME}/Mask'\n",
    "\n",
    "ZIP_OK_OUTDIR_PATH = f'./data/{NAME}/{NAME}_{IMAGE_SIZE}_OK.zip'\n",
    "ZIP_NOK_OUTDIR_PATH = f'./data/{NAME}/{NAME}_{IMAGE_SIZE}_NOK.zip'\n",
    "OUTDIR_PATH = f'./runs/{NAME}__{IMAGE_SIZE}'\n",
    "\n",
    "# Width and height to scale the training image\n"
   ]
  },
  {
   "cell_type": "markdown",
   "metadata": {},
   "source": [
    "# Training parameters"
   ]
  },
  {
   "cell_type": "code",
   "execution_count": 7,
   "metadata": {},
   "outputs": [],
   "source": [
    "# function for invoking other command line functions\n",
    "def call_function(function, **kwargs):\n",
    "    \"\"\"\n",
    "    ChatGPT helped, looks like bs\n",
    "    \"\"\"\n",
    "    command = f\"%run {function} {' '.join([f'--{k} {v}' for k, v in kwargs.items()])}\"\n",
    "    print(f\"Invoked command:\\n {command}\")\n",
    "    \n",
    "    ipython = get_ipython()\n",
    "    ipython.magic(command)\n",
    "\n",
    "    print(f\"Finished at: {datetime.now().strftime('%H:%M:%S')}\")"
   ]
  },
  {
   "cell_type": "markdown",
   "metadata": {},
   "source": [
    "# Generate .zip from dataset for training\n",
    "Create two .zip files.\n",
    " - First set of OK images to train generation of non-defect samples\n",
    " - Second set of NOK images and masks specifying the defect to train generation of defect samples"
   ]
  },
  {
   "cell_type": "code",
   "execution_count": null,
   "metadata": {},
   "outputs": [],
   "source": [
    "kwargs_OK_DATA = {\"source\": DATASET_OK_PATH, \"dest\":ZIP_OK_OUTDIR_PATH, \"width\": IMAGE_SIZE, \"height\": IMAGE_SIZE}\n",
    "kwargs_NOK_DATA = {\"source\": DATASET_NOK_PATH, \"source-mask\": DATASET_MASK_PATH, \"dest\": ZIP_NOK_OUTDIR_PATH, 'width': IMAGE_SIZE, \"height\": IMAGE_SIZE}"
   ]
  },
  {
   "cell_type": "code",
   "execution_count": null,
   "metadata": {},
   "outputs": [],
   "source": [
    "# Create OK training .zip dataset\n",
    "call_function('dataset_tool.py', **kwargs_OK_DATA)"
   ]
  },
  {
   "cell_type": "code",
   "execution_count": null,
   "metadata": {},
   "outputs": [],
   "source": [
    "# Create NOK training .zip dataset\n",
    "call_function('dataset_tool.py', **kwargs_NOK_DATA)"
   ]
  },
  {
   "cell_type": "markdown",
   "metadata": {},
   "source": [
    "# Specify parameters and start training"
   ]
  },
  {
   "cell_type": "code",
   "execution_count": 8,
   "metadata": {},
   "outputs": [],
   "source": [
    "NUM_GPU = 1\n",
    "# How many thousands of images\n",
    "KIMG = 500\n",
    "SNAP = 10\n",
    "BATCH = 4\n",
    "# Path to network to resume training, None otherwise\n",
    "RESUME = False\n",
    "RESUME_PATH = r\"C:\\Users\\pekat\\VojtasBachelors\\DFMGAN\\runs\\Bolts\\00010-Bolts_OK-auto1-kimg200-noresume\\network-snapshot-000200.pkl\"\n",
    "# Image transfer method... 'res_block_match_dis'\n",
    "TRANSFER = False\n",
    "TRANSFER_MODE = 'res_block_match_dis'\n",
    "\n",
    "\n",
    "if not RESUME:\n",
    "    RESUME_PATH = 'noresume'\n",
    "\n",
    "if not TRANSFER:\n",
    "    TRANSFER_MODE = None"
   ]
  },
  {
   "cell_type": "code",
   "execution_count": 10,
   "metadata": {},
   "outputs": [],
   "source": [
    "# Arguments for OK training \n",
    "kwargs_OK = {'data': ZIP_OK_OUTDIR_PATH, 'outdir': OUTDIR_PATH, 'gpus': NUM_GPU, 'kimg': KIMG, 'snap': SNAP, 'resume': RESUME_PATH}\n",
    "# Arguments for NOK training \n",
    "kwargs_NG = {'data': ZIP_NOK_OUTDIR_PATH, 'outdir': OUTDIR_PATH, 'gpus': NUM_GPU, 'kimg': KIMG, 'snap': SNAP, 'resume': RESUME_PATH, 'transfer': TRANSFER_MODE}"
   ]
  },
  {
   "cell_type": "markdown",
   "metadata": {},
   "source": [
    "Train on GOOD"
   ]
  },
  {
   "cell_type": "code",
   "execution_count": null,
   "metadata": {},
   "outputs": [],
   "source": [
    "call_function('train.py', **kwargs_OK)"
   ]
  },
  {
   "cell_type": "markdown",
   "metadata": {},
   "source": [
    "Train on BAD"
   ]
  },
  {
   "cell_type": "code",
   "execution_count": null,
   "metadata": {},
   "outputs": [],
   "source": [
    "call_function('train.py', **kwargs_NG)"
   ]
  }
 ],
 "metadata": {
  "kernelspec": {
   "display_name": "Python 3",
   "language": "python",
   "name": "python3"
  },
  "language_info": {
   "codemirror_mode": {
    "name": "ipython",
    "version": 3
   },
   "file_extension": ".py",
   "mimetype": "text/x-python",
   "name": "python",
   "nbconvert_exporter": "python",
   "pygments_lexer": "ipython3",
   "version": "3.7.9"
  },
  "orig_nbformat": 4
 },
 "nbformat": 4,
 "nbformat_minor": 2
}
